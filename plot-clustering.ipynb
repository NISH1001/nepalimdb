{
 "cells": [
  {
   "cell_type": "code",
   "execution_count": 1,
   "metadata": {},
   "outputs": [
    {
     "name": "stderr",
     "output_type": "stream",
     "text": [
      "/home/paradox/anaconda3/envs/machine-learning/lib/python3.6/site-packages/matplotlib/__init__.py:886: MatplotlibDeprecationWarning: \n",
      "examples.directory is deprecated; in the future, examples will be found relative to the 'datapath' directory.\n",
      "  \"found relative to the 'datapath' directory.\".format(key))\n"
     ]
    }
   ],
   "source": [
    "import pandas as pd\n",
    "import matplotlib.pyplot as plt\n",
    "import numpy as np\n",
    "import seaborn as sns\n",
    "from nltk.corpus import stopwords as sw\n",
    "from sklearn.feature_extraction.text import TfidfVectorizer\n",
    "\n",
    "import re\n",
    "\n",
    "%matplotlib inline"
   ]
  },
  {
   "cell_type": "code",
   "execution_count": 2,
   "metadata": {},
   "outputs": [],
   "source": [
    "stopwords = set(sw.words('english'))"
   ]
  },
  {
   "cell_type": "code",
   "execution_count": 3,
   "metadata": {},
   "outputs": [],
   "source": [
    "def lemmatize(tokens):\n",
    "    lemmatizer = nltk.stem.WordNetLemmatizer()\n",
    "    lemma_list = []\n",
    "    for token in tokens:\n",
    "        lemma = lemmatizer.lemmatize(token, 'v')\n",
    "        if lemma == token:\n",
    "            lemma = lemmatizer.lemmatize(token)\n",
    "        lemma_list.append(lemma)\n",
    "    # return [ lemmatizer.lemmatize(token, 'v') for token in tokens ]\n",
    "    return lemma_list\n",
    "\n",
    "def process_text(text):\n",
    "    text = text.lower()\n",
    "    text = re.sub(r'http\\S+', ' <url> ', text)\n",
    "    text = re.sub(r'#+', ' <hashtag> ', text )\n",
    "    text = re.sub(r'@[A-Za-z0-9]+', ' <user> ', text)\n",
    "    text = re.sub(r\"([A-Za-z]+)'s\", r\"\\1 is\", text)\n",
    "\n",
    "    text = re.sub(r\"\\'ve\", \" have \", text)\n",
    "    text = re.sub(r\"don't\", \"do not \", text)\n",
    "    text = re.sub(r\"did't\", \"did not \", text)\n",
    "    text = re.sub(r\"shouldn't\", \"should not \", text)\n",
    "    text = re.sub(r\"wouldn't\", \"would not \", text)\n",
    "    text = re.sub(r\"hadn't\", \"had not \", text)\n",
    "    text = re.sub(r\"can't\", \"can not\", text)\n",
    "    text = re.sub(r\"won't\", \"will not \", text)\n",
    "    text = re.sub(r\"isn't\", \"is not \", text)\n",
    "    text = re.sub(r\"can't\", \"can not \", text)\n",
    "    text = re.sub(r\"n't\", \" not \", text)\n",
    "\n",
    "    text = re.sub(r\"dont\", \" do not\", text)\n",
    "    text = re.sub(r\"didnt\", \" did not\", text)\n",
    "    text = re.sub(r\"wont\", \" will not\", text)\n",
    "    text = re.sub(r\"cant\", \" can not\", text)\n",
    "\n",
    "    text = re.sub(r\"i'm\", \"i am \", text)\n",
    "    text = re.sub(r\"\\'re\", \" are \", text)\n",
    "    text = re.sub(r\"\\'d\", \" would \", text)\n",
    "    text = re.sub(r\"\\'ll\", \" will \", text)\n",
    "    text = re.sub(r'\\W', ' ', text)\n",
    "    text = re.sub(r'\\d+', ' <number> ', text)\n",
    "    text = re.sub('\\s+url\\s+', ' <url> ', text)\n",
    "    text = re.sub(r'\\s+', ' ', text)\n",
    "    text = text.strip()\n",
    "    return text\n",
    "\n",
    "def remove_stopwords(stopwords, text):\n",
    "    res = []\n",
    "    for token in tokens:\n",
    "        if not token in stopwords:\n",
    "            res.append(token)\n",
    "    return ' '.join(text)"
   ]
  },
  {
   "cell_type": "code",
   "execution_count": 4,
   "metadata": {},
   "outputs": [],
   "source": [
    "data = pd.read_json('data/nepali-movies.json')"
   ]
  },
  {
   "cell_type": "code",
   "execution_count": 5,
   "metadata": {},
   "outputs": [
    {
     "data": {
      "text/html": [
       "<div>\n",
       "<style scoped>\n",
       "    .dataframe tbody tr th:only-of-type {\n",
       "        vertical-align: middle;\n",
       "    }\n",
       "\n",
       "    .dataframe tbody tr th {\n",
       "        vertical-align: top;\n",
       "    }\n",
       "\n",
       "    .dataframe thead th {\n",
       "        text-align: right;\n",
       "    }\n",
       "</style>\n",
       "<table border=\"1\" class=\"dataframe\">\n",
       "  <thead>\n",
       "    <tr style=\"text-align: right;\">\n",
       "      <th></th>\n",
       "      <th>genre</th>\n",
       "      <th>imdb_url</th>\n",
       "      <th>plot</th>\n",
       "      <th>rating</th>\n",
       "      <th>runtime</th>\n",
       "      <th>title</th>\n",
       "      <th>votes</th>\n",
       "      <th>year</th>\n",
       "    </tr>\n",
       "  </thead>\n",
       "  <tbody>\n",
       "    <tr>\n",
       "      <th>0</th>\n",
       "      <td>Comedy, Drama</td>\n",
       "      <td>https://www.imdb.com/title/tt7229666/</td>\n",
       "      <td>Chhakka Panja 2 continues with new story of Ra...</td>\n",
       "      <td>6.6</td>\n",
       "      <td>138 min</td>\n",
       "      <td>Chhakka Panja 2</td>\n",
       "      <td>290.0</td>\n",
       "      <td>2017</td>\n",
       "    </tr>\n",
       "    <tr>\n",
       "      <th>1</th>\n",
       "      <td>Comedy</td>\n",
       "      <td>https://www.imdb.com/title/tt8393764/</td>\n",
       "      <td>When she learns about the worst condition of t...</td>\n",
       "      <td>6.3</td>\n",
       "      <td>None</td>\n",
       "      <td>Chhakka Panja 3</td>\n",
       "      <td>96.0</td>\n",
       "      <td>2018</td>\n",
       "    </tr>\n",
       "    <tr>\n",
       "      <th>2</th>\n",
       "      <td>Romance</td>\n",
       "      <td>https://www.imdb.com/title/tt7672868/</td>\n",
       "      <td>When Ishan (Dhiraj Magar) and Meera (Samragyee...</td>\n",
       "      <td>7.3</td>\n",
       "      <td>120 min</td>\n",
       "      <td>Intu Mintu Londonma</td>\n",
       "      <td>71.0</td>\n",
       "      <td>2018</td>\n",
       "    </tr>\n",
       "    <tr>\n",
       "      <th>3</th>\n",
       "      <td>Comedy, Drama, Romance</td>\n",
       "      <td>https://www.imdb.com/title/tt10942220/</td>\n",
       "      <td>Add a Plot</td>\n",
       "      <td>8.6</td>\n",
       "      <td>None</td>\n",
       "      <td>Kabaddi Kabaddi Kabaddi</td>\n",
       "      <td>9.0</td>\n",
       "      <td>2019</td>\n",
       "    </tr>\n",
       "    <tr>\n",
       "      <th>4</th>\n",
       "      <td>Drama, Sport</td>\n",
       "      <td>https://www.imdb.com/title/tt8387542/</td>\n",
       "      <td>Father's dedication to guiding his son to beco...</td>\n",
       "      <td>3.2</td>\n",
       "      <td>None</td>\n",
       "      <td>Captain</td>\n",
       "      <td>46.0</td>\n",
       "      <td>2019</td>\n",
       "    </tr>\n",
       "  </tbody>\n",
       "</table>\n",
       "</div>"
      ],
      "text/plain": [
       "                    genre                                imdb_url  \\\n",
       "0           Comedy, Drama   https://www.imdb.com/title/tt7229666/   \n",
       "1                  Comedy   https://www.imdb.com/title/tt8393764/   \n",
       "2                 Romance   https://www.imdb.com/title/tt7672868/   \n",
       "3  Comedy, Drama, Romance  https://www.imdb.com/title/tt10942220/   \n",
       "4            Drama, Sport   https://www.imdb.com/title/tt8387542/   \n",
       "\n",
       "                                                plot  rating  runtime  \\\n",
       "0  Chhakka Panja 2 continues with new story of Ra...     6.6  138 min   \n",
       "1  When she learns about the worst condition of t...     6.3     None   \n",
       "2  When Ishan (Dhiraj Magar) and Meera (Samragyee...     7.3  120 min   \n",
       "3                                         Add a Plot     8.6     None   \n",
       "4  Father's dedication to guiding his son to beco...     3.2     None   \n",
       "\n",
       "                     title  votes  year  \n",
       "0          Chhakka Panja 2  290.0  2017  \n",
       "1          Chhakka Panja 3   96.0  2018  \n",
       "2      Intu Mintu Londonma   71.0  2018  \n",
       "3  Kabaddi Kabaddi Kabaddi    9.0  2019  \n",
       "4                  Captain   46.0  2019  "
      ]
     },
     "execution_count": 5,
     "metadata": {},
     "output_type": "execute_result"
    }
   ],
   "source": [
    "data.head()"
   ]
  },
  {
   "cell_type": "code",
   "execution_count": 6,
   "metadata": {},
   "outputs": [],
   "source": [
    "data['plot_clean'] = data['plot'].apply(process_text)"
   ]
  },
  {
   "cell_type": "code",
   "execution_count": 7,
   "metadata": {},
   "outputs": [
    {
     "data": {
      "text/html": [
       "<div>\n",
       "<style scoped>\n",
       "    .dataframe tbody tr th:only-of-type {\n",
       "        vertical-align: middle;\n",
       "    }\n",
       "\n",
       "    .dataframe tbody tr th {\n",
       "        vertical-align: top;\n",
       "    }\n",
       "\n",
       "    .dataframe thead th {\n",
       "        text-align: right;\n",
       "    }\n",
       "</style>\n",
       "<table border=\"1\" class=\"dataframe\">\n",
       "  <thead>\n",
       "    <tr style=\"text-align: right;\">\n",
       "      <th></th>\n",
       "      <th>genre</th>\n",
       "      <th>imdb_url</th>\n",
       "      <th>plot</th>\n",
       "      <th>rating</th>\n",
       "      <th>runtime</th>\n",
       "      <th>title</th>\n",
       "      <th>votes</th>\n",
       "      <th>year</th>\n",
       "      <th>plot_clean</th>\n",
       "    </tr>\n",
       "  </thead>\n",
       "  <tbody>\n",
       "    <tr>\n",
       "      <th>0</th>\n",
       "      <td>Comedy, Drama</td>\n",
       "      <td>https://www.imdb.com/title/tt7229666/</td>\n",
       "      <td>Chhakka Panja 2 continues with new story of Ra...</td>\n",
       "      <td>6.6</td>\n",
       "      <td>138 min</td>\n",
       "      <td>Chhakka Panja 2</td>\n",
       "      <td>290.0</td>\n",
       "      <td>2017</td>\n",
       "      <td>chhakka panja &lt;number&gt; continues with new stor...</td>\n",
       "    </tr>\n",
       "    <tr>\n",
       "      <th>1</th>\n",
       "      <td>Comedy</td>\n",
       "      <td>https://www.imdb.com/title/tt8393764/</td>\n",
       "      <td>When she learns about the worst condition of t...</td>\n",
       "      <td>6.3</td>\n",
       "      <td>None</td>\n",
       "      <td>Chhakka Panja 3</td>\n",
       "      <td>96.0</td>\n",
       "      <td>2018</td>\n",
       "      <td>when she learns about the worst condition of t...</td>\n",
       "    </tr>\n",
       "    <tr>\n",
       "      <th>2</th>\n",
       "      <td>Romance</td>\n",
       "      <td>https://www.imdb.com/title/tt7672868/</td>\n",
       "      <td>When Ishan (Dhiraj Magar) and Meera (Samragyee...</td>\n",
       "      <td>7.3</td>\n",
       "      <td>120 min</td>\n",
       "      <td>Intu Mintu Londonma</td>\n",
       "      <td>71.0</td>\n",
       "      <td>2018</td>\n",
       "      <td>when ishan dhiraj magar and meera samragyee ra...</td>\n",
       "    </tr>\n",
       "    <tr>\n",
       "      <th>3</th>\n",
       "      <td>Comedy, Drama, Romance</td>\n",
       "      <td>https://www.imdb.com/title/tt10942220/</td>\n",
       "      <td>Add a Plot</td>\n",
       "      <td>8.6</td>\n",
       "      <td>None</td>\n",
       "      <td>Kabaddi Kabaddi Kabaddi</td>\n",
       "      <td>9.0</td>\n",
       "      <td>2019</td>\n",
       "      <td>add a plot</td>\n",
       "    </tr>\n",
       "    <tr>\n",
       "      <th>4</th>\n",
       "      <td>Drama, Sport</td>\n",
       "      <td>https://www.imdb.com/title/tt8387542/</td>\n",
       "      <td>Father's dedication to guiding his son to beco...</td>\n",
       "      <td>3.2</td>\n",
       "      <td>None</td>\n",
       "      <td>Captain</td>\n",
       "      <td>46.0</td>\n",
       "      <td>2019</td>\n",
       "      <td>father is dedication to guiding his son to bec...</td>\n",
       "    </tr>\n",
       "  </tbody>\n",
       "</table>\n",
       "</div>"
      ],
      "text/plain": [
       "                    genre                                imdb_url  \\\n",
       "0           Comedy, Drama   https://www.imdb.com/title/tt7229666/   \n",
       "1                  Comedy   https://www.imdb.com/title/tt8393764/   \n",
       "2                 Romance   https://www.imdb.com/title/tt7672868/   \n",
       "3  Comedy, Drama, Romance  https://www.imdb.com/title/tt10942220/   \n",
       "4            Drama, Sport   https://www.imdb.com/title/tt8387542/   \n",
       "\n",
       "                                                plot  rating  runtime  \\\n",
       "0  Chhakka Panja 2 continues with new story of Ra...     6.6  138 min   \n",
       "1  When she learns about the worst condition of t...     6.3     None   \n",
       "2  When Ishan (Dhiraj Magar) and Meera (Samragyee...     7.3  120 min   \n",
       "3                                         Add a Plot     8.6     None   \n",
       "4  Father's dedication to guiding his son to beco...     3.2     None   \n",
       "\n",
       "                     title  votes  year  \\\n",
       "0          Chhakka Panja 2  290.0  2017   \n",
       "1          Chhakka Panja 3   96.0  2018   \n",
       "2      Intu Mintu Londonma   71.0  2018   \n",
       "3  Kabaddi Kabaddi Kabaddi    9.0  2019   \n",
       "4                  Captain   46.0  2019   \n",
       "\n",
       "                                          plot_clean  \n",
       "0  chhakka panja <number> continues with new stor...  \n",
       "1  when she learns about the worst condition of t...  \n",
       "2  when ishan dhiraj magar and meera samragyee ra...  \n",
       "3                                         add a plot  \n",
       "4  father is dedication to guiding his son to bec...  "
      ]
     },
     "execution_count": 7,
     "metadata": {},
     "output_type": "execute_result"
    }
   ],
   "source": [
    "data.head()"
   ]
  },
  {
   "cell_type": "code",
   "execution_count": 8,
   "metadata": {},
   "outputs": [],
   "source": [
    "df = data[pd.notnull(data['rating'])]\n",
    "df = df[df['plot'] != 'Add a Plot']"
   ]
  },
  {
   "cell_type": "code",
   "execution_count": 9,
   "metadata": {},
   "outputs": [
    {
     "data": {
      "text/html": [
       "<div>\n",
       "<style scoped>\n",
       "    .dataframe tbody tr th:only-of-type {\n",
       "        vertical-align: middle;\n",
       "    }\n",
       "\n",
       "    .dataframe tbody tr th {\n",
       "        vertical-align: top;\n",
       "    }\n",
       "\n",
       "    .dataframe thead th {\n",
       "        text-align: right;\n",
       "    }\n",
       "</style>\n",
       "<table border=\"1\" class=\"dataframe\">\n",
       "  <thead>\n",
       "    <tr style=\"text-align: right;\">\n",
       "      <th></th>\n",
       "      <th>genre</th>\n",
       "      <th>imdb_url</th>\n",
       "      <th>plot</th>\n",
       "      <th>rating</th>\n",
       "      <th>runtime</th>\n",
       "      <th>title</th>\n",
       "      <th>votes</th>\n",
       "      <th>year</th>\n",
       "      <th>plot_clean</th>\n",
       "    </tr>\n",
       "  </thead>\n",
       "  <tbody>\n",
       "    <tr>\n",
       "      <th>0</th>\n",
       "      <td>Comedy, Drama</td>\n",
       "      <td>https://www.imdb.com/title/tt7229666/</td>\n",
       "      <td>Chhakka Panja 2 continues with new story of Ra...</td>\n",
       "      <td>6.6</td>\n",
       "      <td>138 min</td>\n",
       "      <td>Chhakka Panja 2</td>\n",
       "      <td>290.0</td>\n",
       "      <td>2017</td>\n",
       "      <td>chhakka panja &lt;number&gt; continues with new stor...</td>\n",
       "    </tr>\n",
       "    <tr>\n",
       "      <th>1</th>\n",
       "      <td>Comedy</td>\n",
       "      <td>https://www.imdb.com/title/tt8393764/</td>\n",
       "      <td>When she learns about the worst condition of t...</td>\n",
       "      <td>6.3</td>\n",
       "      <td>None</td>\n",
       "      <td>Chhakka Panja 3</td>\n",
       "      <td>96.0</td>\n",
       "      <td>2018</td>\n",
       "      <td>when she learns about the worst condition of t...</td>\n",
       "    </tr>\n",
       "    <tr>\n",
       "      <th>2</th>\n",
       "      <td>Romance</td>\n",
       "      <td>https://www.imdb.com/title/tt7672868/</td>\n",
       "      <td>When Ishan (Dhiraj Magar) and Meera (Samragyee...</td>\n",
       "      <td>7.3</td>\n",
       "      <td>120 min</td>\n",
       "      <td>Intu Mintu Londonma</td>\n",
       "      <td>71.0</td>\n",
       "      <td>2018</td>\n",
       "      <td>when ishan dhiraj magar and meera samragyee ra...</td>\n",
       "    </tr>\n",
       "    <tr>\n",
       "      <th>4</th>\n",
       "      <td>Drama, Sport</td>\n",
       "      <td>https://www.imdb.com/title/tt8387542/</td>\n",
       "      <td>Father's dedication to guiding his son to beco...</td>\n",
       "      <td>3.2</td>\n",
       "      <td>None</td>\n",
       "      <td>Captain</td>\n",
       "      <td>46.0</td>\n",
       "      <td>2019</td>\n",
       "      <td>father is dedication to guiding his son to bec...</td>\n",
       "    </tr>\n",
       "    <tr>\n",
       "      <th>5</th>\n",
       "      <td>Drama</td>\n",
       "      <td>https://www.imdb.com/title/tt8622286/</td>\n",
       "      <td>A young mother waiting for her husband to be b...</td>\n",
       "      <td>7.1</td>\n",
       "      <td>95 min</td>\n",
       "      <td>Bulbul</td>\n",
       "      <td>18.0</td>\n",
       "      <td>2019</td>\n",
       "      <td>a young mother waiting for her husband to be b...</td>\n",
       "    </tr>\n",
       "  </tbody>\n",
       "</table>\n",
       "</div>"
      ],
      "text/plain": [
       "           genre                               imdb_url  \\\n",
       "0  Comedy, Drama  https://www.imdb.com/title/tt7229666/   \n",
       "1         Comedy  https://www.imdb.com/title/tt8393764/   \n",
       "2        Romance  https://www.imdb.com/title/tt7672868/   \n",
       "4   Drama, Sport  https://www.imdb.com/title/tt8387542/   \n",
       "5          Drama  https://www.imdb.com/title/tt8622286/   \n",
       "\n",
       "                                                plot  rating  runtime  \\\n",
       "0  Chhakka Panja 2 continues with new story of Ra...     6.6  138 min   \n",
       "1  When she learns about the worst condition of t...     6.3     None   \n",
       "2  When Ishan (Dhiraj Magar) and Meera (Samragyee...     7.3  120 min   \n",
       "4  Father's dedication to guiding his son to beco...     3.2     None   \n",
       "5  A young mother waiting for her husband to be b...     7.1   95 min   \n",
       "\n",
       "                 title  votes  year  \\\n",
       "0      Chhakka Panja 2  290.0  2017   \n",
       "1      Chhakka Panja 3   96.0  2018   \n",
       "2  Intu Mintu Londonma   71.0  2018   \n",
       "4              Captain   46.0  2019   \n",
       "5               Bulbul   18.0  2019   \n",
       "\n",
       "                                          plot_clean  \n",
       "0  chhakka panja <number> continues with new stor...  \n",
       "1  when she learns about the worst condition of t...  \n",
       "2  when ishan dhiraj magar and meera samragyee ra...  \n",
       "4  father is dedication to guiding his son to bec...  \n",
       "5  a young mother waiting for her husband to be b...  "
      ]
     },
     "execution_count": 9,
     "metadata": {},
     "output_type": "execute_result"
    }
   ],
   "source": [
    "df.head()"
   ]
  },
  {
   "cell_type": "code",
   "execution_count": 10,
   "metadata": {},
   "outputs": [
    {
     "data": {
      "text/plain": [
       "(207, 9)"
      ]
     },
     "execution_count": 10,
     "metadata": {},
     "output_type": "execute_result"
    }
   ],
   "source": [
    "df.shape"
   ]
  },
  {
   "cell_type": "code",
   "execution_count": 11,
   "metadata": {
    "scrolled": true
   },
   "outputs": [
    {
     "data": {
      "text/plain": [
       "7.5     12\n",
       "8.2     11\n",
       "7.7     11\n",
       "6.8      8\n",
       "6.6      8\n",
       "8.4      8\n",
       "7.2      8\n",
       "8.0      7\n",
       "7.9      7\n",
       "7.4      7\n",
       "7.3      7\n",
       "7.6      6\n",
       "8.8      6\n",
       "8.5      6\n",
       "7.1      6\n",
       "8.6      6\n",
       "6.5      6\n",
       "6.9      6\n",
       "8.1      6\n",
       "7.8      5\n",
       "8.3      5\n",
       "7.0      5\n",
       "6.7      4\n",
       "6.2      4\n",
       "8.7      4\n",
       "9.0      3\n",
       "8.9      3\n",
       "6.0      3\n",
       "5.6      3\n",
       "6.4      3\n",
       "9.1      3\n",
       "9.5      2\n",
       "5.7      2\n",
       "5.9      2\n",
       "6.3      2\n",
       "6.1      1\n",
       "5.3      1\n",
       "5.5      1\n",
       "5.1      1\n",
       "3.2      1\n",
       "5.0      1\n",
       "10.0     1\n",
       "9.3      1\n",
       "3.8      1\n",
       "4.9      1\n",
       "9.2      1\n",
       "5.2      1\n",
       "Name: rating, dtype: int64"
      ]
     },
     "execution_count": 11,
     "metadata": {},
     "output_type": "execute_result"
    }
   ],
   "source": [
    "df['rating'].value_counts()"
   ]
  },
  {
   "cell_type": "code",
   "execution_count": null,
   "metadata": {},
   "outputs": [],
   "source": []
  },
  {
   "cell_type": "code",
   "execution_count": 12,
   "metadata": {},
   "outputs": [
    {
     "data": {
      "text/html": [
       "<div>\n",
       "<style scoped>\n",
       "    .dataframe tbody tr th:only-of-type {\n",
       "        vertical-align: middle;\n",
       "    }\n",
       "\n",
       "    .dataframe tbody tr th {\n",
       "        vertical-align: top;\n",
       "    }\n",
       "\n",
       "    .dataframe thead th {\n",
       "        text-align: right;\n",
       "    }\n",
       "</style>\n",
       "<table border=\"1\" class=\"dataframe\">\n",
       "  <thead>\n",
       "    <tr style=\"text-align: right;\">\n",
       "      <th></th>\n",
       "      <th>value</th>\n",
       "      <th>rating_categorical</th>\n",
       "    </tr>\n",
       "  </thead>\n",
       "  <tbody>\n",
       "    <tr>\n",
       "      <th>0</th>\n",
       "      <td>1</td>\n",
       "      <td>A</td>\n",
       "    </tr>\n",
       "    <tr>\n",
       "      <th>1</th>\n",
       "      <td>2</td>\n",
       "      <td>A</td>\n",
       "    </tr>\n",
       "    <tr>\n",
       "      <th>2</th>\n",
       "      <td>3</td>\n",
       "      <td>A</td>\n",
       "    </tr>\n",
       "    <tr>\n",
       "      <th>3</th>\n",
       "      <td>4</td>\n",
       "      <td>B</td>\n",
       "    </tr>\n",
       "    <tr>\n",
       "      <th>4</th>\n",
       "      <td>5</td>\n",
       "      <td>B</td>\n",
       "    </tr>\n",
       "    <tr>\n",
       "      <th>5</th>\n",
       "      <td>6</td>\n",
       "      <td>B</td>\n",
       "    </tr>\n",
       "    <tr>\n",
       "      <th>6</th>\n",
       "      <td>7</td>\n",
       "      <td>C</td>\n",
       "    </tr>\n",
       "    <tr>\n",
       "      <th>7</th>\n",
       "      <td>8</td>\n",
       "      <td>C</td>\n",
       "    </tr>\n",
       "    <tr>\n",
       "      <th>8</th>\n",
       "      <td>9</td>\n",
       "      <td>D</td>\n",
       "    </tr>\n",
       "    <tr>\n",
       "      <th>9</th>\n",
       "      <td>10</td>\n",
       "      <td>D</td>\n",
       "    </tr>\n",
       "  </tbody>\n",
       "</table>\n",
       "</div>"
      ],
      "text/plain": [
       "   value rating_categorical\n",
       "0      1                  A\n",
       "1      2                  A\n",
       "2      3                  A\n",
       "3      4                  B\n",
       "4      5                  B\n",
       "5      6                  B\n",
       "6      7                  C\n",
       "7      8                  C\n",
       "8      9                  D\n",
       "9     10                  D"
      ]
     },
     "execution_count": 12,
     "metadata": {},
     "output_type": "execute_result"
    }
   ],
   "source": [
    "#df3 = pd.DataFrame({'value': np.random.randint(1, 80, 20)}) \n",
    "df3 = pd.DataFrame({'value' : np.arange(1, 11)})\n",
    "df3['rating_categorical'] = pd.cut(df3.value,\n",
    "                     bins=[0, 3, 6, 8, 10],\n",
    "                     labels=[\"A\", \"B\", \"C\", \"D\",])\n",
    "df3"
   ]
  },
  {
   "cell_type": "code",
   "execution_count": 13,
   "metadata": {},
   "outputs": [],
   "source": [
    "df['rating_categorical'] = pd.cut(df.rating,\n",
    "                     bins=[0, 3, 6, 8, 10],\n",
    "                     labels=[\"0\", \"1\", \"2\", \"3\",])"
   ]
  },
  {
   "cell_type": "code",
   "execution_count": 14,
   "metadata": {},
   "outputs": [
    {
     "data": {
      "text/html": [
       "<div>\n",
       "<style scoped>\n",
       "    .dataframe tbody tr th:only-of-type {\n",
       "        vertical-align: middle;\n",
       "    }\n",
       "\n",
       "    .dataframe tbody tr th {\n",
       "        vertical-align: top;\n",
       "    }\n",
       "\n",
       "    .dataframe thead th {\n",
       "        text-align: right;\n",
       "    }\n",
       "</style>\n",
       "<table border=\"1\" class=\"dataframe\">\n",
       "  <thead>\n",
       "    <tr style=\"text-align: right;\">\n",
       "      <th></th>\n",
       "      <th>genre</th>\n",
       "      <th>imdb_url</th>\n",
       "      <th>plot</th>\n",
       "      <th>rating</th>\n",
       "      <th>runtime</th>\n",
       "      <th>title</th>\n",
       "      <th>votes</th>\n",
       "      <th>year</th>\n",
       "      <th>plot_clean</th>\n",
       "      <th>rating_categorical</th>\n",
       "    </tr>\n",
       "  </thead>\n",
       "  <tbody>\n",
       "    <tr>\n",
       "      <th>0</th>\n",
       "      <td>Comedy, Drama</td>\n",
       "      <td>https://www.imdb.com/title/tt7229666/</td>\n",
       "      <td>Chhakka Panja 2 continues with new story of Ra...</td>\n",
       "      <td>6.6</td>\n",
       "      <td>138 min</td>\n",
       "      <td>Chhakka Panja 2</td>\n",
       "      <td>290.0</td>\n",
       "      <td>2017</td>\n",
       "      <td>chhakka panja &lt;number&gt; continues with new stor...</td>\n",
       "      <td>2</td>\n",
       "    </tr>\n",
       "    <tr>\n",
       "      <th>1</th>\n",
       "      <td>Comedy</td>\n",
       "      <td>https://www.imdb.com/title/tt8393764/</td>\n",
       "      <td>When she learns about the worst condition of t...</td>\n",
       "      <td>6.3</td>\n",
       "      <td>None</td>\n",
       "      <td>Chhakka Panja 3</td>\n",
       "      <td>96.0</td>\n",
       "      <td>2018</td>\n",
       "      <td>when she learns about the worst condition of t...</td>\n",
       "      <td>2</td>\n",
       "    </tr>\n",
       "    <tr>\n",
       "      <th>2</th>\n",
       "      <td>Romance</td>\n",
       "      <td>https://www.imdb.com/title/tt7672868/</td>\n",
       "      <td>When Ishan (Dhiraj Magar) and Meera (Samragyee...</td>\n",
       "      <td>7.3</td>\n",
       "      <td>120 min</td>\n",
       "      <td>Intu Mintu Londonma</td>\n",
       "      <td>71.0</td>\n",
       "      <td>2018</td>\n",
       "      <td>when ishan dhiraj magar and meera samragyee ra...</td>\n",
       "      <td>2</td>\n",
       "    </tr>\n",
       "    <tr>\n",
       "      <th>4</th>\n",
       "      <td>Drama, Sport</td>\n",
       "      <td>https://www.imdb.com/title/tt8387542/</td>\n",
       "      <td>Father's dedication to guiding his son to beco...</td>\n",
       "      <td>3.2</td>\n",
       "      <td>None</td>\n",
       "      <td>Captain</td>\n",
       "      <td>46.0</td>\n",
       "      <td>2019</td>\n",
       "      <td>father is dedication to guiding his son to bec...</td>\n",
       "      <td>1</td>\n",
       "    </tr>\n",
       "    <tr>\n",
       "      <th>5</th>\n",
       "      <td>Drama</td>\n",
       "      <td>https://www.imdb.com/title/tt8622286/</td>\n",
       "      <td>A young mother waiting for her husband to be b...</td>\n",
       "      <td>7.1</td>\n",
       "      <td>95 min</td>\n",
       "      <td>Bulbul</td>\n",
       "      <td>18.0</td>\n",
       "      <td>2019</td>\n",
       "      <td>a young mother waiting for her husband to be b...</td>\n",
       "      <td>2</td>\n",
       "    </tr>\n",
       "  </tbody>\n",
       "</table>\n",
       "</div>"
      ],
      "text/plain": [
       "           genre                               imdb_url  \\\n",
       "0  Comedy, Drama  https://www.imdb.com/title/tt7229666/   \n",
       "1         Comedy  https://www.imdb.com/title/tt8393764/   \n",
       "2        Romance  https://www.imdb.com/title/tt7672868/   \n",
       "4   Drama, Sport  https://www.imdb.com/title/tt8387542/   \n",
       "5          Drama  https://www.imdb.com/title/tt8622286/   \n",
       "\n",
       "                                                plot  rating  runtime  \\\n",
       "0  Chhakka Panja 2 continues with new story of Ra...     6.6  138 min   \n",
       "1  When she learns about the worst condition of t...     6.3     None   \n",
       "2  When Ishan (Dhiraj Magar) and Meera (Samragyee...     7.3  120 min   \n",
       "4  Father's dedication to guiding his son to beco...     3.2     None   \n",
       "5  A young mother waiting for her husband to be b...     7.1   95 min   \n",
       "\n",
       "                 title  votes  year  \\\n",
       "0      Chhakka Panja 2  290.0  2017   \n",
       "1      Chhakka Panja 3   96.0  2018   \n",
       "2  Intu Mintu Londonma   71.0  2018   \n",
       "4              Captain   46.0  2019   \n",
       "5               Bulbul   18.0  2019   \n",
       "\n",
       "                                          plot_clean rating_categorical  \n",
       "0  chhakka panja <number> continues with new stor...                  2  \n",
       "1  when she learns about the worst condition of t...                  2  \n",
       "2  when ishan dhiraj magar and meera samragyee ra...                  2  \n",
       "4  father is dedication to guiding his son to bec...                  1  \n",
       "5  a young mother waiting for her husband to be b...                  2  "
      ]
     },
     "execution_count": 14,
     "metadata": {},
     "output_type": "execute_result"
    }
   ],
   "source": [
    "df.head()"
   ]
  },
  {
   "cell_type": "code",
   "execution_count": null,
   "metadata": {},
   "outputs": [],
   "source": []
  },
  {
   "cell_type": "code",
   "execution_count": 15,
   "metadata": {},
   "outputs": [],
   "source": [
    "vectorizer = TfidfVectorizer(stop_words='english')"
   ]
  },
  {
   "cell_type": "code",
   "execution_count": 16,
   "metadata": {},
   "outputs": [],
   "source": [
    "X = vectorizer.fit_transform(df['plot_clean']).toarray()"
   ]
  },
  {
   "cell_type": "code",
   "execution_count": 17,
   "metadata": {},
   "outputs": [
    {
     "data": {
      "text/plain": [
       "(207, 2029)"
      ]
     },
     "execution_count": 17,
     "metadata": {},
     "output_type": "execute_result"
    }
   ],
   "source": [
    "X.shape"
   ]
  },
  {
   "cell_type": "code",
   "execution_count": 18,
   "metadata": {},
   "outputs": [
    {
     "data": {
      "text/plain": [
       "2    123\n",
       "3     66\n",
       "1     18\n",
       "0      0\n",
       "Name: rating_categorical, dtype: int64"
      ]
     },
     "execution_count": 18,
     "metadata": {},
     "output_type": "execute_result"
    }
   ],
   "source": [
    "df['rating_categorical'].value_counts()"
   ]
  },
  {
   "cell_type": "code",
   "execution_count": null,
   "metadata": {},
   "outputs": [],
   "source": []
  },
  {
   "cell_type": "markdown",
   "metadata": {},
   "source": [
    "# Plot Visualization"
   ]
  },
  {
   "cell_type": "code",
   "execution_count": 19,
   "metadata": {},
   "outputs": [],
   "source": [
    "from sklearn.decomposition import PCA, TruncatedSVD\n",
    "from sklearn.manifold import TSNE"
   ]
  },
  {
   "cell_type": "code",
   "execution_count": 44,
   "metadata": {},
   "outputs": [],
   "source": [
    "#projector = PCA(n_components=2)\n",
    "projector = TruncatedSVD(n_components=2)\n",
    "# projector = TSNE(n_components=2)"
   ]
  },
  {
   "cell_type": "code",
   "execution_count": 45,
   "metadata": {},
   "outputs": [],
   "source": [
    "X2d = projector.fit_transform(X)"
   ]
  },
  {
   "cell_type": "code",
   "execution_count": 46,
   "metadata": {},
   "outputs": [
    {
     "data": {
      "text/plain": [
       "<matplotlib.collections.PathCollection at 0x7fca7443d1d0>"
      ]
     },
     "execution_count": 46,
     "metadata": {},
     "output_type": "execute_result"
    },
    {
     "data": {
      "image/png": "[encoded data removed]",
      "text/plain": [
       "<Figure size 1080x720 with 1 Axes>"
      ]
     },
     "metadata": {
      "needs_background": "light"
     },
     "output_type": "display_data"
    }
   ],
   "source": [
    "plt.rcParams['figure.figsize'] = (15, 10)\n",
    "plt.scatter(X2d[:, 0], X2d[:, 1], c=df['rating_categorical'].values)"
   ]
  },
  {
   "cell_type": "code",
   "execution_count": null,
   "metadata": {},
   "outputs": [],
   "source": []
  },
  {
   "cell_type": "markdown",
   "metadata": {},
   "source": [
    "# Clustering\n",
    "We cluster plot based on the TF-IDF features extracted from the text."
   ]
  },
  {
   "cell_type": "code",
   "execution_count": 47,
   "metadata": {},
   "outputs": [],
   "source": [
    "from sklearn.cluster import KMeans"
   ]
  },
  {
   "cell_type": "code",
   "execution_count": 48,
   "metadata": {},
   "outputs": [],
   "source": [
    "model = KMeans(n_clusters=3)"
   ]
  },
  {
   "cell_type": "code",
   "execution_count": 49,
   "metadata": {},
   "outputs": [],
   "source": [
    "predictions = model.fit_predict(X)"
   ]
  },
  {
   "cell_type": "code",
   "execution_count": null,
   "metadata": {},
   "outputs": [],
   "source": []
  },
  {
   "cell_type": "code",
   "execution_count": 50,
   "metadata": {},
   "outputs": [
    {
     "data": {
      "image/png": "[encoded data removed]",
      "text/plain": [
       "<Figure size 1080x720 with 1 Axes>"
      ]
     },
     "metadata": {
      "needs_background": "light"
     },
     "output_type": "display_data"
    }
   ],
   "source": [
    "plt.rcParams['figure.figsize'] = (15, 10)\n",
    "fig, ax = plt.subplots()\n",
    "ax.scatter(X2d[:, 0], X2d[:, 1], c=predictions, s=50)\n",
    "for i, txt in enumerate(df['plot'].values):\n",
    "    #ax.annotate(txt, (X[i],Y[i], Z[i]))\n",
    "    if i%3 == 0:\n",
    "        ax.text(X2d[i, 0], X2d[i, 1], \"{}\".format(df['rating'].iloc[i]), color='red')\n",
    "\n",
    "#plt.scatter(X2d[:, 0], X2d[:, 1], c=predictions)"
   ]
  },
  {
   "cell_type": "code",
   "execution_count": null,
   "metadata": {},
   "outputs": [],
   "source": []
  },
  {
   "cell_type": "code",
   "execution_count": null,
   "metadata": {},
   "outputs": [],
   "source": []
  },
  {
   "cell_type": "code",
   "execution_count": null,
   "metadata": {},
   "outputs": [],
   "source": []
  },
  {
   "cell_type": "code",
   "execution_count": 51,
   "metadata": {},
   "outputs": [],
   "source": [
    "#projector = PCA(n_components=1)\n",
    "projector = TruncatedSVD(n_components=1)\n",
    "#projector = TSNE(n_components=2)"
   ]
  },
  {
   "cell_type": "code",
   "execution_count": 52,
   "metadata": {},
   "outputs": [],
   "source": [
    "X1d = projector.fit_transform(X)"
   ]
  },
  {
   "cell_type": "code",
   "execution_count": 53,
   "metadata": {},
   "outputs": [
    {
     "data": {
      "text/plain": [
       "<matplotlib.collections.PathCollection at 0x7fca742db6d8>"
      ]
     },
     "execution_count": 53,
     "metadata": {},
     "output_type": "execute_result"
    },
    {
     "data": {
      "image/png": "[encoded data removed]",
      "text/plain": [
       "<Figure size 1080x720 with 1 Axes>"
      ]
     },
     "metadata": {
      "needs_background": "light"
     },
     "output_type": "display_data"
    }
   ],
   "source": [
    "plt.scatter(X1d, df['rating'].values)"
   ]
  },
  {
   "cell_type": "code",
   "execution_count": null,
   "metadata": {},
   "outputs": [],
   "source": []
  },
  {
   "cell_type": "markdown",
   "metadata": {},
   "source": [
    "# Linear Regression"
   ]
  },
  {
   "cell_type": "code",
   "execution_count": 54,
   "metadata": {},
   "outputs": [],
   "source": [
    "from sklearn.linear_model import LinearRegression\n",
    "from sklearn.metrics import mean_squared_error, mean_absolute_error"
   ]
  },
  {
   "cell_type": "code",
   "execution_count": null,
   "metadata": {},
   "outputs": [],
   "source": []
  },
  {
   "cell_type": "code",
   "execution_count": 55,
   "metadata": {},
   "outputs": [],
   "source": [
    "model = LinearRegression()"
   ]
  },
  {
   "cell_type": "code",
   "execution_count": 56,
   "metadata": {},
   "outputs": [
    {
     "data": {
      "text/plain": [
       "LinearRegression(copy_X=True, fit_intercept=True, n_jobs=None, normalize=False)"
      ]
     },
     "execution_count": 56,
     "metadata": {},
     "output_type": "execute_result"
    }
   ],
   "source": [
    "model.fit(X1d, df['rating'].values)"
   ]
  },
  {
   "cell_type": "code",
   "execution_count": 57,
   "metadata": {},
   "outputs": [
    {
     "data": {
      "text/plain": [
       "(array([0.29568383]), 7.440025515377086)"
      ]
     },
     "execution_count": 57,
     "metadata": {},
     "output_type": "execute_result"
    }
   ],
   "source": [
    "model.coef_, model.intercept_"
   ]
  },
  {
   "cell_type": "code",
   "execution_count": 58,
   "metadata": {},
   "outputs": [
    {
     "name": "stdout",
     "output_type": "stream",
     "text": [
      "90.76556990575838\n",
      "9.5219147202958\n"
     ]
    }
   ],
   "source": [
    "print(mean_squared_error(X1d, model.predict(df['rating'].values.reshape(-1, 1))))\n",
    "print(mean_absolute_error(X1d, model.predict(df['rating'].values.reshape(-1, 1))))"
   ]
  },
  {
   "cell_type": "code",
   "execution_count": 59,
   "metadata": {},
   "outputs": [
    {
     "data": {
      "text/plain": [
       "LinearRegression(copy_X=True, fit_intercept=True, n_jobs=None, normalize=False)"
      ]
     },
     "execution_count": 59,
     "metadata": {},
     "output_type": "execute_result"
    }
   ],
   "source": [
    "# Xreg = np.arange(0, 10)\n",
    "# Yreg = model.coef_[0] * Xreg + model.intercept_\n",
    "# plt.scatter(X1d, df['rating'].values)\n",
    "# plt.plot(Xreg, Yreg, color='red')\n",
    "model"
   ]
  },
  {
   "cell_type": "code",
   "execution_count": 60,
   "metadata": {},
   "outputs": [],
   "source": [
    "#df['rating'].values.reshape(-1, 1)"
   ]
  },
  {
   "cell_type": "code",
   "execution_count": 61,
   "metadata": {},
   "outputs": [
    {
     "name": "stderr",
     "output_type": "stream",
     "text": [
      "/home/paradox/anaconda3/envs/machine-learning/lib/python3.6/site-packages/scipy/stats/stats.py:1713: FutureWarning: Using a non-tuple sequence for multidimensional indexing is deprecated; use `arr[tuple(seq)]` instead of `arr[seq]`. In the future this will be interpreted as an array index, `arr[np.array(seq)]`, which will result either in an error or a different result.\n",
      "  return np.add.reduce(sorted[indexer] * weights, axis=axis) / sumval\n"
     ]
    },
    {
     "data": {
      "text/plain": [
       "<matplotlib.axes._subplots.AxesSubplot at 0x7fca7432d048>"
      ]
     },
     "execution_count": 61,
     "metadata": {},
     "output_type": "execute_result"
    },
    {
     "data": {
      "image/png": "[encoded data removed]",
      "text/plain": [
       "<Figure size 1080x720 with 1 Axes>"
      ]
     },
     "metadata": {
      "needs_background": "light"
     },
     "output_type": "display_data"
    }
   ],
   "source": [
    "sns.regplot(X1d, df['rating'].values)"
   ]
  },
  {
   "cell_type": "code",
   "execution_count": null,
   "metadata": {},
   "outputs": [],
   "source": []
  }
 ],
 "metadata": {
  "kernelspec": {
   "display_name": "Python 3",
   "language": "python",
   "name": "python3"
  },
  "language_info": {
   "codemirror_mode": {
    "name": "ipython",
    "version": 3
   },
   "file_extension": ".py",
   "mimetype": "text/x-python",
   "name": "python",
   "nbconvert_exporter": "python",
   "pygments_lexer": "ipython3",
   "version": "3.6.7"
  }
 },
 "nbformat": 4,
 "nbformat_minor": 2
}
